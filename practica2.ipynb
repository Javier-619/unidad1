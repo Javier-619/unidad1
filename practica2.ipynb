{
  "nbformat": 4,
  "nbformat_minor": 0,
  "metadata": {
    "colab": {
      "provenance": [],
      "authorship_tag": "ABX9TyN9MLJcdfbg9H3ze4SPlPYp",
      "include_colab_link": true
    },
    "kernelspec": {
      "name": "python3",
      "display_name": "Python 3"
    },
    "language_info": {
      "name": "python"
    }
  },
  "cells": [
    {
      "cell_type": "markdown",
      "metadata": {
        "id": "view-in-github",
        "colab_type": "text"
      },
      "source": [
        "<a href=\"https://colab.research.google.com/github/Javier-619/unidad1/blob/main/practica2.ipynb\" target=\"_parent\"><img src=\"https://colab.research.google.com/assets/colab-badge.svg\" alt=\"Open In Colab\"/></a>"
      ]
    },
    {
      "cell_type": "markdown",
      "source": [
        "javier sandoval - practica 2 pandas 7 de octubre del 2025\n",
        "-------------------\n",
        "dataframes da pandas\n",
        "-------------------\n",
        "un dataframe es una estructura de datos bidimensionales ,como una matriz con filas y columnas\n",
        "---------------------\n",
        "Ejemplo crea undataframes basico"
      ],
      "metadata": {
        "id": "_qZPwrYB2qZv"
      }
    },
    {
      "cell_type": "code",
      "source": [
        "import pandas as pd\n",
        "\n",
        "datos ={\n",
        "    \"calorias\":[420,380,390],\n",
        "    \"duracion\":[50,40,45]\n",
        "}\n",
        "#cargar datos dentro del DATAFRAME\n",
        "dataframe = pd.DataFrame(datos)\n",
        "print(dataframe)\n"
      ],
      "metadata": {
        "colab": {
          "base_uri": "https://localhost:8080/"
        },
        "id": "KD34osfF3NEZ",
        "outputId": "181c1140-5e9f-4e49-e2d8-e43b960482cb"
      },
      "execution_count": 21,
      "outputs": [
        {
          "output_type": "stream",
          "name": "stdout",
          "text": [
            "   calorias  duracion\n",
            "0       420        50\n",
            "1       380        40\n",
            "2       390        45\n"
          ]
        }
      ]
    },
    {
      "cell_type": "markdown",
      "source": [
        "  LOCALIZAR FILAS\n",
        "  ---------------\n",
        "  Como puedes ver en el resultado anterior el dataframe es como una tabla con filas y columnas pandas usa el atributo \"loc\" para revolver una o mas filas\n",
        "  especificas\n",
        "  --------------\n",
        "  EJEMPLO:Devuelve la fila 0\n",
        "  --------------"
      ],
      "metadata": {
        "id": "Qornyl1m6-z4"
      }
    },
    {
      "cell_type": "code",
      "source": [
        "import pandas as pd\n",
        "\n",
        "datos ={\n",
        "    \"calorias\":[420,380,390],\n",
        "    \"duracion\":[50,40,45]\n",
        "}\n",
        "#cargar datos dentro del DATAFRAME\n",
        "dataframe = pd.DataFrame(datos)\n",
        "print(dataframe.loc[0])\n"
      ],
      "metadata": {
        "colab": {
          "base_uri": "https://localhost:8080/"
        },
        "id": "2HCgIOqF7hDA",
        "outputId": "e9d9c213-8a20-4e95-8494-87862a14eae3"
      },
      "execution_count": 22,
      "outputs": [
        {
          "output_type": "stream",
          "name": "stdout",
          "text": [
            "calorias    420\n",
            "duracion     50\n",
            "Name: 0, dtype: int64\n"
          ]
        }
      ]
    },
    {
      "cell_type": "markdown",
      "source": [
        "EJEMPLO:devuelve la fila 0 y 1\n"
      ],
      "metadata": {
        "id": "pTUYH91V9lXI"
      }
    },
    {
      "cell_type": "code",
      "source": [],
      "metadata": {
        "id": "26Z67NKo90HQ"
      },
      "execution_count": null,
      "outputs": []
    },
    {
      "cell_type": "code",
      "source": [
        "import pandas as pd\n",
        "\n",
        "datos ={\n",
        "    \"calorias\":[420,380,390],\n",
        "    \"duracion\":[50,40,45]\n",
        "}\n",
        "#cargar datos dentro del DATAFRAME\n",
        "dataframe = pd.DataFrame(datos)\n",
        "print(dataframe.loc[[0,1]])\n"
      ],
      "metadata": {
        "colab": {
          "base_uri": "https://localhost:8080/"
        },
        "outputId": "6732cd5b-22f9-48fd-f28e-fd4174129a51",
        "id": "wepAWF6-923s"
      },
      "execution_count": 23,
      "outputs": [
        {
          "output_type": "stream",
          "name": "stdout",
          "text": [
            "   calorias  duracion\n",
            "0       420        50\n",
            "1       380        40\n"
          ]
        }
      ]
    },
    {
      "cell_type": "markdown",
      "source": [
        "Indices nombrados\n",
        "---------------\n",
        "con el argumento \"index\" puedes nombrar tus propios indices y etiquetas,\n",
        "ejemplo:agrega una lista de nnombres para darle una etiqueta a cada fila\n",
        "---------------\n"
      ],
      "metadata": {
        "id": "LNlpPY3c-j5B"
      }
    },
    {
      "cell_type": "code",
      "source": [],
      "metadata": {
        "id": "oPQ3s3eu-7UR"
      },
      "execution_count": null,
      "outputs": []
    },
    {
      "cell_type": "code",
      "source": [
        "import pandas as pd\n",
        "\n",
        "datos ={\n",
        "    \"calorias\":[420,380,390],\n",
        "    \"duracion\":[50,40,45]\n",
        "}\n",
        "#cargar datos dentro del DATAFRAME\n",
        "dataframe = pd.DataFrame(datos,index = [\"dia1\",\"dia2\",\"dia3\"])\n",
        "print(dataframe)\n"
      ],
      "metadata": {
        "colab": {
          "base_uri": "https://localhost:8080/"
        },
        "outputId": "fb8793a7-9662-4387-e25c-4e7e63a58137",
        "id": "Qx1J7PFP_Bvh"
      },
      "execution_count": 24,
      "outputs": [
        {
          "output_type": "stream",
          "name": "stdout",
          "text": [
            "      calorias  duracion\n",
            "dia1       420        50\n",
            "dia2       380        40\n",
            "dia3       390        45\n"
          ]
        }
      ]
    },
    {
      "cell_type": "markdown",
      "source": [
        "Localizar indice por el nombre o etiqueta\n",
        "utilice el atributo \"loc\" para devolver la (s)\n",
        "fila(s) especificas\n",
        "-------------------\n",
        "EJEMPLO: devuelve la fila dia-2\n",
        "-------------------"
      ],
      "metadata": {
        "id": "bcYu5AuP_ppx"
      }
    },
    {
      "cell_type": "code",
      "source": [
        "import pandas as pd\n",
        "\n",
        "datos ={\n",
        "    \"calorias\":[420,380,390],\n",
        "    \"duracion\":[50,40,45]\n",
        "}\n",
        "#cargar datos dentro del DATAFRAME\n",
        "dataframe = pd.DataFrame(datos,index = [\"dia-1\",\"dia-2\",\"dia-3\"])\n",
        "print(dataframe.loc[\"dia-2\"])\n"
      ],
      "metadata": {
        "colab": {
          "base_uri": "https://localhost:8080/"
        },
        "outputId": "e9241337-19bd-4ad5-e8e9-3b8853e7844e",
        "id": "K-hsVSDpAIir"
      },
      "execution_count": 27,
      "outputs": [
        {
          "output_type": "stream",
          "name": "stdout",
          "text": [
            "calorias    380\n",
            "duracion     40\n",
            "Name: dia-2, dtype: int64\n"
          ]
        }
      ]
    }
  ]
}