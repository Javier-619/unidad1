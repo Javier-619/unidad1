{
  "nbformat": 4,
  "nbformat_minor": 0,
  "metadata": {
    "colab": {
      "provenance": [],
      "authorship_tag": "ABX9TyPkGuTlRg8h1wrmHb6Xnwwe",
      "include_colab_link": true
    },
    "kernelspec": {
      "name": "python3",
      "display_name": "Python 3"
    },
    "language_info": {
      "name": "python"
    }
  },
  "cells": [
    {
      "cell_type": "markdown",
      "metadata": {
        "id": "view-in-github",
        "colab_type": "text"
      },
      "source": [
        "<a href=\"https://colab.research.google.com/github/Javier-619/unidad1/blob/main/practica7.ipynb\" target=\"_parent\"><img src=\"https://colab.research.google.com/assets/colab-badge.svg\" alt=\"Open In Colab\"/></a>"
      ]
    },
    {
      "cell_type": "markdown",
      "source": [
        "javier sandoval perez -practica7-25 de septiembre de 2025.\n",
        "--------------\n",
        "Slicing numpy\n",
        "--------------\n",
        "utilice STEP para determinar el paso del corte:\n",
        "\n",
        "Ejemplo: ([1,2,3,4,5,6,7]) - Devuelve todos los elementos del indice 1 al indice 5\n",
        "\n"
      ],
      "metadata": {
        "id": "NZE_aSLoG40R"
      }
    },
    {
      "cell_type": "code",
      "source": [
        "import numpy as np\n",
        "arreglo = np.array([1,2,3,4,5,6,7])\n",
        "print(arreglo[1:5:2])"
      ],
      "metadata": {
        "colab": {
          "base_uri": "https://localhost:8080/"
        },
        "id": "xy18noDtIKFK",
        "outputId": "d8375d0f-167e-44e6-ad57-763fb3fd887e"
      },
      "execution_count": 2,
      "outputs": [
        {
          "output_type": "stream",
          "name": "stdout",
          "text": [
            "[2 4]\n"
          ]
        }
      ]
    },
    {
      "cell_type": "markdown",
      "source": [
        "Elemplo2:\n",
        "([1,2,3,4,5,6,7])\n",
        "devuelve los elementos de la matriz"
      ],
      "metadata": {
        "id": "de0wYjm3IvTb"
      }
    },
    {
      "cell_type": "code",
      "source": [
        "import numpy as np\n",
        "arreglo =np.array([1,2,3,4,5,6,7])\n",
        "print(arreglo[::2])\n"
      ],
      "metadata": {
        "colab": {
          "base_uri": "https://localhost:8080/"
        },
        "id": "Jk02qgVoI-v4",
        "outputId": "b7d83ed3-443a-42e5-e5ff-a2fc86770317"
      },
      "execution_count": 3,
      "outputs": [
        {
          "output_type": "stream",
          "name": "stdout",
          "text": [
            "[1 3 5 7]\n"
          ]
        }
      ]
    },
    {
      "cell_type": "markdown",
      "source": [
        "slice de matrices 2D\n",
        "-----------------------\n",
        "Ejemplo:([[1,2,3,4,5],[6,7,8,9,10]])\n",
        "Del segundo elemento ,corte dal indice 1 al indice 4\n"
      ],
      "metadata": {
        "id": "4okNWmvBJxRv"
      }
    },
    {
      "cell_type": "code",
      "source": [
        "import numpy as np\n",
        "arreglo = np.array([[1,2,3,4,5],[6,7,8,9,10]])\n",
        "print(arreglo[1, 1:4])"
      ],
      "metadata": {
        "colab": {
          "base_uri": "https://localhost:8080/"
        },
        "id": "uO25P7ROLfe6",
        "outputId": "d51bed97-3c44-4ed0-de16-73d844caa861"
      },
      "execution_count": 6,
      "outputs": [
        {
          "output_type": "stream",
          "name": "stdout",
          "text": [
            "[7 8 9]\n"
          ]
        }
      ]
    },
    {
      "cell_type": "markdown",
      "source": [
        "Ejemplo4:([[1,2,3,4,5],[6,7,8,9,10]])\n",
        "De ambos elementos devuelve el indoce 2\n"
      ],
      "metadata": {
        "id": "IKXkzvf_NDRC"
      }
    },
    {
      "cell_type": "code",
      "source": [
        "import numpy as np\n",
        "arrelgo = np.array([[1,2,3,4,5,6],[1,2,3,4,5,6]])\n",
        "print(arreglo[0:2,2])"
      ],
      "metadata": {
        "colab": {
          "base_uri": "https://localhost:8080/"
        },
        "id": "oUBXfQIoNhNP",
        "outputId": "a784918d-41cb-441c-fcc4-8bf30bc7122d"
      },
      "execution_count": 7,
      "outputs": [
        {
          "output_type": "stream",
          "name": "stdout",
          "text": [
            "[3 8]\n"
          ]
        }
      ]
    },
    {
      "cell_type": "markdown",
      "source": [
        "EJEMPLO:5\n",
        "([[[1,2,3,4,5],[6,7,8,9,10]]])\n",
        "de ambos elementos, corta el indice 1 al indice 4\n"
      ],
      "metadata": {
        "id": "cis7ytUbOE3c"
      }
    },
    {
      "cell_type": "code",
      "source": [
        "import numpy as np\n",
        "arreglo = np.array([[1,2,3,4,5],[6,7,8,9,10]])\n",
        "print(arreglo[0:2, 1:4])"
      ],
      "metadata": {
        "colab": {
          "base_uri": "https://localhost:8080/"
        },
        "id": "BZff4BurOg0I",
        "outputId": "792b7336-b257-41d5-93d4-786fa41e98ce"
      },
      "execution_count": 8,
      "outputs": [
        {
          "output_type": "stream",
          "name": "stdout",
          "text": [
            "[[2 3 4]\n",
            " [7 8 9]]\n"
          ]
        }
      ]
    },
    {
      "cell_type": "markdown",
      "source": [
        "Ejercicio 1- Autonomo\n",
        "¿Del siguiente arreglo cual es el resultado?\n",
        "([1,2,3,4,5])\n",
        "corta del 1er elemento al 6to elemento con paso 2"
      ],
      "metadata": {
        "id": "938i6GbEPQM7"
      }
    },
    {
      "cell_type": "code",
      "source": [
        "import numpy as np\n",
        "arreglo = np.array ([1,2,3,4,5,6,7])\n",
        "print(arreglo[0:6:2])"
      ],
      "metadata": {
        "colab": {
          "base_uri": "https://localhost:8080/"
        },
        "id": "tC40VKj7PzSv",
        "outputId": "18010fd2-ae0d-458b-be04-02505b78eab8"
      },
      "execution_count": 13,
      "outputs": [
        {
          "output_type": "stream",
          "name": "stdout",
          "text": [
            "[1 3 5]\n"
          ]
        }
      ]
    }
  ]
}