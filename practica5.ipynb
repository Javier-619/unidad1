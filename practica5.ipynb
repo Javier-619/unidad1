{
  "nbformat": 4,
  "nbformat_minor": 0,
  "metadata": {
    "colab": {
      "provenance": [],
      "authorship_tag": "ABX9TyM35qi+HhiF2FwxxJLusB3K",
      "include_colab_link": true
    },
    "kernelspec": {
      "name": "python3",
      "display_name": "Python 3"
    },
    "language_info": {
      "name": "python"
    }
  },
  "cells": [
    {
      "cell_type": "markdown",
      "metadata": {
        "id": "view-in-github",
        "colab_type": "text"
      },
      "source": [
        "<a href=\"https://colab.research.google.com/github/Javier-619/unidad1/blob/main/practica5.ipynb\" target=\"_parent\"><img src=\"https://colab.research.google.com/assets/colab-badge.svg\" alt=\"Open In Colab\"/></a>"
      ]
    },
    {
      "cell_type": "code",
      "execution_count": null,
      "metadata": {
        "id": "sbyQNb-i1xuK"
      },
      "outputs": [],
      "source": []
    },
    {
      "cell_type": "markdown",
      "source": [
        "calcula media, mediana y moda:\n",
        "\n",
        "[23, 45, 56, 12, 67, 34, 55, 21],\n",
        "[10, 20, 30, 40, 20, 50, 20],\n",
        "[10, 20, 30, 40, 50]"
      ],
      "metadata": {
        "id": "Fds5nt7Z21pE"
      }
    },
    {
      "cell_type": "markdown",
      "source": [
        "MEDIA:"
      ],
      "metadata": {
        "id": "eANHXFVy3Tv2"
      }
    },
    {
      "cell_type": "code",
      "source": [
        "import numpy as np\n",
        "\n",
        "datos = [23, 45, 56, 12, 67, 34, 55, 21]\n",
        "\n",
        "media = np.mean(datos)\n",
        "\n",
        "print(f\"Media: {media}\")\n"
      ],
      "metadata": {
        "colab": {
          "base_uri": "https://localhost:8080/"
        },
        "id": "tTVW2WYo3XC9",
        "outputId": "f5f587db-bd34-4440-9a86-e48ba6500467"
      },
      "execution_count": 1,
      "outputs": [
        {
          "output_type": "stream",
          "name": "stdout",
          "text": [
            "Media: 39.125\n"
          ]
        }
      ]
    },
    {
      "cell_type": "markdown",
      "source": [
        "MODA:"
      ],
      "metadata": {
        "id": "2FLoWP4k8MZ6"
      }
    },
    {
      "cell_type": "code",
      "source": [
        "from scipy import stats\n",
        "\n",
        "datos = [23, 45, 56, 12, 67, 34, 55, 21]\n",
        "\n",
        "moda = stats.mode(datos, keepdims=True)[0][0]\n",
        "\n",
        "print(f\"Moda: {moda}\")\n"
      ],
      "metadata": {
        "colab": {
          "base_uri": "https://localhost:8080/"
        },
        "id": "dTc8MUVL8cdJ",
        "outputId": "52fee19e-4cc7-46e7-d006-b3b4a282cd13"
      },
      "execution_count": 2,
      "outputs": [
        {
          "output_type": "stream",
          "name": "stdout",
          "text": [
            "Moda: 12\n"
          ]
        }
      ]
    },
    {
      "cell_type": "markdown",
      "source": [
        "MEDIANA"
      ],
      "metadata": {
        "id": "oK_W29uY8tks"
      }
    },
    {
      "cell_type": "code",
      "source": [
        "import numpy as np\n",
        "\n",
        "datos = [23, 45, 56, 12, 67, 34, 55, 21]\n",
        "\n",
        "mediana = np.median(datos)\n",
        "\n",
        "print(f\"Mediana: {mediana}\")\n"
      ],
      "metadata": {
        "colab": {
          "base_uri": "https://localhost:8080/"
        },
        "id": "WB0gNWlf8687",
        "outputId": "2eadbf99-3948-4b8a-8236-528ea9af934c"
      },
      "execution_count": 3,
      "outputs": [
        {
          "output_type": "stream",
          "name": "stdout",
          "text": [
            "Mediana: 39.5\n"
          ]
        }
      ]
    },
    {
      "cell_type": "markdown",
      "source": [
        "MEDIA:"
      ],
      "metadata": {
        "id": "cprObNlj9VmE"
      }
    },
    {
      "cell_type": "code",
      "source": [
        "import numpy as np\n",
        "\n",
        "datos = [10, 20, 30, 40, 20, 50, 20]\n",
        "\n",
        "media = np.mean(datos)\n",
        "\n",
        "print(f\"Media: {media}\")\n"
      ],
      "metadata": {
        "colab": {
          "base_uri": "https://localhost:8080/"
        },
        "id": "FAOr11F-9XTc",
        "outputId": "7fe0d3bc-0ab5-4494-cc72-9e1341cb4f40"
      },
      "execution_count": 4,
      "outputs": [
        {
          "output_type": "stream",
          "name": "stdout",
          "text": [
            "Media: 27.142857142857142\n"
          ]
        }
      ]
    },
    {
      "cell_type": "markdown",
      "source": [
        "MODA:"
      ],
      "metadata": {
        "id": "Z3rfZaEt9gN7"
      }
    },
    {
      "cell_type": "code",
      "source": [
        "from scipy import stats\n",
        "\n",
        "datos = [10, 20, 30, 40, 20, 50, 20]\n",
        "\n",
        "moda = stats.mode(datos, keepdims=True)[0][0]\n",
        "\n",
        "print(f\"Moda: {moda}\")\n"
      ],
      "metadata": {
        "colab": {
          "base_uri": "https://localhost:8080/"
        },
        "id": "w5lDW_hU9iCc",
        "outputId": "eb1b509d-fdef-4ab4-c7b3-e8d2ee55e91c"
      },
      "execution_count": 5,
      "outputs": [
        {
          "output_type": "stream",
          "name": "stdout",
          "text": [
            "Moda: 20\n"
          ]
        }
      ]
    },
    {
      "cell_type": "markdown",
      "source": [
        "MEDIANA"
      ],
      "metadata": {
        "id": "sMamrezX9sgO"
      }
    },
    {
      "cell_type": "code",
      "source": [
        "import numpy as np\n",
        "\n",
        "datos = [10, 20, 30, 40, 20, 50, 20]\n",
        "\n",
        "mediana = np.median(datos)\n",
        "\n",
        "print(f\"Mediana: {mediana}\")\n"
      ],
      "metadata": {
        "colab": {
          "base_uri": "https://localhost:8080/"
        },
        "id": "XN6I2TbJ9ub1",
        "outputId": "00517185-8e24-4345-a124-576464635501"
      },
      "execution_count": 6,
      "outputs": [
        {
          "output_type": "stream",
          "name": "stdout",
          "text": [
            "Mediana: 20.0\n"
          ]
        }
      ]
    },
    {
      "cell_type": "markdown",
      "source": [
        "MEDIA:"
      ],
      "metadata": {
        "id": "Vao8ZMpI-Ro1"
      }
    },
    {
      "cell_type": "code",
      "source": [
        "import statistics\n",
        "\n",
        "datos = [10, 20, 30, 40, 50]\n",
        "\n",
        "print(statistics.mean(datos))\n"
      ],
      "metadata": {
        "colab": {
          "base_uri": "https://localhost:8080/"
        },
        "id": "H0Jp5TWL-TUl",
        "outputId": "33f7599c-9dbd-4eb2-8fec-7d6f5b695eae"
      },
      "execution_count": 7,
      "outputs": [
        {
          "output_type": "stream",
          "name": "stdout",
          "text": [
            "30\n"
          ]
        }
      ]
    },
    {
      "cell_type": "markdown",
      "source": [
        "MEDIANA:"
      ],
      "metadata": {
        "id": "sYO8pdA1-bON"
      }
    },
    {
      "cell_type": "code",
      "source": [
        "import statistics\n",
        "\n",
        "datos = [10, 20, 30, 40, 50]\n",
        "\n",
        "print(statistics.median(datos))\n"
      ],
      "metadata": {
        "colab": {
          "base_uri": "https://localhost:8080/"
        },
        "id": "Uj8s1F0K-c0F",
        "outputId": "6629fa56-5c37-435e-df2f-188cfaafdb25"
      },
      "execution_count": 8,
      "outputs": [
        {
          "output_type": "stream",
          "name": "stdout",
          "text": [
            "30\n"
          ]
        }
      ]
    },
    {
      "cell_type": "markdown",
      "source": [
        "MODA"
      ],
      "metadata": {
        "id": "gyvfW-WP-hQ-"
      }
    },
    {
      "cell_type": "code",
      "source": [
        "import statistics\n",
        "\n",
        "datos = [10, 20, 30, 40, 50]\n",
        "\n",
        "print(statistics.mode(datos))\n"
      ],
      "metadata": {
        "colab": {
          "base_uri": "https://localhost:8080/"
        },
        "id": "renpaio1-jve",
        "outputId": "4a9ddaee-1309-4a7c-bdc6-40edeec68ac3"
      },
      "execution_count": 9,
      "outputs": [
        {
          "output_type": "stream",
          "name": "stdout",
          "text": [
            "10\n"
          ]
        }
      ]
    }
  ]
}