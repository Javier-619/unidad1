{
  "nbformat": 4,
  "nbformat_minor": 0,
  "metadata": {
    "colab": {
      "provenance": [],
      "authorship_tag": "ABX9TyOynd7FtrVHx75lL3bEuE3w",
      "include_colab_link": true
    },
    "kernelspec": {
      "name": "python3",
      "display_name": "Python 3"
    },
    "language_info": {
      "name": "python"
    }
  },
  "cells": [
    {
      "cell_type": "markdown",
      "metadata": {
        "id": "view-in-github",
        "colab_type": "text"
      },
      "source": [
        "<a href=\"https://colab.research.google.com/github/Javier-619/unidad1/blob/main/PRACTICA4.ipynb\" target=\"_parent\"><img src=\"https://colab.research.google.com/assets/colab-badge.svg\" alt=\"Open In Colab\"/></a>"
      ]
    },
    {
      "cell_type": "code",
      "execution_count": null,
      "metadata": {
        "id": "5aQkUBcoOjMK"
      },
      "outputs": [],
      "source": []
    },
    {
      "cell_type": "markdown",
      "source": [
        "ACTIVIDAD-14\n",
        "NUMPY INDEXACION DE MATRICES.\n",
        "Acceder a elementos de una matriz la indexacion da matrices es lo mismo que acceder a un elemento de una matriz. Puede acceder a un elemento de una matriz haciendo referencia a su numero de indice."
      ],
      "metadata": {
        "id": "KKtIKrNLPhyW"
      }
    },
    {
      "cell_type": "markdown",
      "source": [],
      "metadata": {
        "id": "yq0bPgKLQYyx"
      }
    },
    {
      "cell_type": "markdown",
      "source": [
        "los indices en las matrices numpy comienzan en 0 ,lo que significa que el primer elemento tiene indices 0, en el segundo tiene undice 1, en el tercero tiene indice 2, ETC."
      ],
      "metadata": {
        "id": "fQ7EsgkYQbiG"
      }
    },
    {
      "cell_type": "markdown",
      "source": [
        "EJEMPLO: obtengan el primer elemento de la segunda matriz"
      ],
      "metadata": {
        "id": "OzdJw5DuRCMz"
      }
    },
    {
      "cell_type": "code",
      "source": [
        "import numpy as np\n",
        "arreglo = np.array  ([1,2,3,4,4])\n",
        "print (arreglo[0])\n"
      ],
      "metadata": {
        "colab": {
          "base_uri": "https://localhost:8080/"
        },
        "id": "xGra_NA4RSET",
        "outputId": "0b6c7a7c-4696-476c-cab0-0ad9bfab4f67"
      },
      "execution_count": 2,
      "outputs": [
        {
          "output_type": "stream",
          "name": "stdout",
          "text": [
            "1\n"
          ]
        }
      ]
    },
    {
      "cell_type": "markdown",
      "source": [
        "del la siguiente lista:6,7,8,9,10 obtenga el tercero de cuarto elemento"
      ],
      "metadata": {
        "id": "BUNcQdYvSYmG"
      }
    },
    {
      "cell_type": "code",
      "source": [
        "import numpy as np\n",
        "arreglo = np.array ([6,7,8,9,10])\n",
        "print (arreglo[2])\n",
        "print (arreglo[3])"
      ],
      "metadata": {
        "colab": {
          "base_uri": "https://localhost:8080/"
        },
        "id": "uuM40H_NSo3r",
        "outputId": "bf73fc69-bb3d-47fc-f1a1-ebb619d29217"
      },
      "execution_count": 3,
      "outputs": [
        {
          "output_type": "stream",
          "name": "stdout",
          "text": [
            "8\n",
            "9\n"
          ]
        }
      ]
    },
    {
      "cell_type": "markdown",
      "source": [
        "ACCEDER A MATRIZ 2-D\n",
        "para acceder a elementos de matrices 2-D podemos utilizar numeros enteros separados por comas que representan al numero de dimensiones  y al indice del elemento. Piense en las matrices 2-D como una tabla con filas y columnas . donde la dimension representa la fila y el indice representa la columna"
      ],
      "metadata": {
        "id": "1gLA0saaVSLn"
      }
    },
    {
      "cell_type": "markdown",
      "source": [
        "EJEMPLO:Realiza una matriz 2D CON las siguientes listas\n",
        "LISTA1-1,2,3,4,5\n",
        "LISTA2-6,7,8,9,10"
      ],
      "metadata": {
        "id": "2fbIuvwgWAT0"
      }
    },
    {
      "cell_type": "code",
      "source": [
        "import numpy as np\n",
        "arreglo = np.array ([[1,2,3,4,5],[6,7,8,9,10]])\n",
        "print (arreglo[1,4])"
      ],
      "metadata": {
        "colab": {
          "base_uri": "https://localhost:8080/"
        },
        "id": "8ckXOymrWuf6",
        "outputId": "48fcd3ce-656c-4f57-925e-c5bd1ba20726"
      },
      "execution_count": 4,
      "outputs": [
        {
          "output_type": "stream",
          "name": "stdout",
          "text": [
            "10\n"
          ]
        }
      ]
    },
    {
      "cell_type": "markdown",
      "source": [
        "De la matriz 2-D accede al elemento de la primera fila y la segunda columna"
      ],
      "metadata": {
        "id": "rOhgjqWFWzRI"
      }
    },
    {
      "cell_type": "code",
      "source": [
        "import numpy as np\n",
        "arreglo = np.array ([[1,2,3,4,5],[6,7,8,9,10]])\n",
        "print (arreglo[0,1])"
      ],
      "metadata": {
        "colab": {
          "base_uri": "https://localhost:8080/"
        },
        "id": "WLS8vkajXBYA",
        "outputId": "42d62fe1-6065-4f87-e78b-91e18935941c"
      },
      "execution_count": 6,
      "outputs": [
        {
          "output_type": "stream",
          "name": "stdout",
          "text": [
            "2\n"
          ]
        }
      ]
    }
  ]
}