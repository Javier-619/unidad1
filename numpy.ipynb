{
  "nbformat": 4,
  "nbformat_minor": 0,
  "metadata": {
    "colab": {
      "provenance": [],
      "authorship_tag": "ABX9TyPn+tRunaQVuXf+szTXk4gk",
      "include_colab_link": true
    },
    "kernelspec": {
      "name": "python3",
      "display_name": "Python 3"
    },
    "language_info": {
      "name": "python"
    }
  },
  "cells": [
    {
      "cell_type": "markdown",
      "metadata": {
        "id": "view-in-github",
        "colab_type": "text"
      },
      "source": [
        "<a href=\"https://colab.research.google.com/github/Javier-619/unidad1/blob/main/numpy.ipynb\" target=\"_parent\"><img src=\"https://colab.research.google.com/assets/colab-badge.svg\" alt=\"Open In Colab\"/></a>"
      ]
    },
    {
      "cell_type": "code",
      "execution_count": null,
      "metadata": {
        "id": "O_mqDymniSPZ"
      },
      "outputs": [],
      "source": []
    },
    {
      "cell_type": "markdown",
      "source": [
        "Numpy es una libreria de python.\n",
        "Numpy se utiliza para trabajar con matrices\n",
        "o arreglo\n",
        "Numpy es la abreviatura de \"python numerico\"\n",
        "tambien tiene funciones para trabajar en el dominio de algebra lineal, la transformada y las matrices\n",
        "En python tenemos listas que sirven como matrices, pero son lentas de procesar.\n",
        "Numpy tiene como objetivo proporcionar un objeto de matriz que sea 50 veces mas\n",
        "rapidos que las listas tradicionales."
      ],
      "metadata": {
        "id": "qZ8YPEO2izO4"
      }
    },
    {
      "cell_type": "code",
      "source": [
        "#Primero tenemos que importar la libreria\n",
        "import numpy\n",
        "\n",
        "arreglo = numpy.array([1,2,2,4,5])\n",
        "print(arreglo)"
      ],
      "metadata": {
        "colab": {
          "base_uri": "https://localhost:8080/"
        },
        "id": "fGRFmFJqlHan",
        "outputId": "de844aa4-14f8-4305-88c6-1845ecdcb346"
      },
      "execution_count": 1,
      "outputs": [
        {
          "output_type": "stream",
          "name": "stdout",
          "text": [
            "[1 2 2 4 5]\n"
          ]
        }
      ]
    },
    {
      "cell_type": "markdown",
      "source": [
        "Numpy como np\n",
        "Numpy general mente se importa bajo el alias np. En python los alias son un nombre alternativo para referirse a la misma cosa"
      ],
      "metadata": {
        "id": "-t9HmGDomLcn"
      }
    },
    {
      "cell_type": "code",
      "source": [
        "import numpy as np\n",
        "\n",
        "arreglo = np.array([6,7,8,9,10])\n",
        "print(arreglo)"
      ],
      "metadata": {
        "colab": {
          "base_uri": "https://localhost:8080/"
        },
        "id": "e6dg7UxhmmN2",
        "outputId": "e51b58c5-4a70-4dc9-b0cf-13ddae1b81cf"
      },
      "execution_count": 2,
      "outputs": [
        {
          "output_type": "stream",
          "name": "stdout",
          "text": [
            "[ 6  7  8  9 10]\n"
          ]
        }
      ]
    },
    {
      "cell_type": "markdown",
      "source": [
        "comprobando la version de numpy la cadena de la version se almacena\n",
        "en el atributo__version__"
      ],
      "metadata": {
        "id": "BTYgiEVqncDm"
      }
    },
    {
      "cell_type": "code",
      "source": [
        "import numpy as np\n",
        "\n",
        "print(np.__version__)"
      ],
      "metadata": {
        "colab": {
          "base_uri": "https://localhost:8080/"
        },
        "id": "I4dqDwM8n1H4",
        "outputId": "40b83ca9-530d-435b-8786-b01bbee957b1"
      },
      "execution_count": 4,
      "outputs": [
        {
          "output_type": "stream",
          "name": "stdout",
          "text": [
            "2.0.2\n"
          ]
        }
      ]
    },
    {
      "cell_type": "markdown",
      "source": [
        "Numpy creando matrices\n",
        "crear un objeto ndarray de numpy\n",
        "numpy se utiliza para tranajar con matrices el objeto de matriz se llama ndarray.\n",
        "podemos crear un numpy ndarray utilizando la funcion array()"
      ],
      "metadata": {
        "id": "9R1ykj99oScP"
      }
    },
    {
      "cell_type": "code",
      "source": [
        "import numpy as np\n",
        "\n",
        "arreglo = np.array([\"Raul\",\"Victor\",\"Ana\",])\n",
        "print(arreglo)\n",
        "print(type(arreglo))"
      ],
      "metadata": {
        "colab": {
          "base_uri": "https://localhost:8080/"
        },
        "id": "rOO73-W4pK7O",
        "outputId": "01a82124-86a4-4948-948f-81ed352578bf"
      },
      "execution_count": 5,
      "outputs": [
        {
          "output_type": "stream",
          "name": "stdout",
          "text": [
            "['Raul' 'Victor' 'Ana']\n",
            "<class 'numpy.ndarray'>\n"
          ]
        }
      ]
    },
    {
      "cell_type": "markdown",
      "source": [
        "Dimensiones en matrices\n",
        "una dimension en matrices es un nivel de profundidad de matriz(matrices anidadas) Una matriz anidada contiene matrices como elementos\n",
        "Matrices 0/D. son elementos de una matriz. Cada valor de una matriz es una matriz pero 0-D. Ejemplo crea una matriz 0-D con un valor de 42"
      ],
      "metadata": {
        "id": "YxLq15plqFhn"
      }
    },
    {
      "cell_type": "code",
      "source": [
        "import numpy as np\n",
        "\n",
        "arreglo = np.array(42)\n",
        "\n",
        "print(arreglo)"
      ],
      "metadata": {
        "colab": {
          "base_uri": "https://localhost:8080/"
        },
        "id": "VUUjT_AdrD9u",
        "outputId": "1d42e99f-3d43-486d-ada7-0a12f3f7a9b4"
      },
      "execution_count": 6,
      "outputs": [
        {
          "output_type": "stream",
          "name": "stdout",
          "text": [
            "42\n"
          ]
        }
      ]
    },
    {
      "cell_type": "markdown",
      "source": [
        "Natrices 1-D\n",
        "Una matriz que tiene matrices 0-D como elementos se denomina unidimensional o\n",
        "1-D. Estas con las matrices mas comunes y basicas.\n",
        "Ejemplo: crea una matriz de una dimension que tenga los valores 1,2,3,4,5"
      ],
      "metadata": {
        "id": "IFcuJE-csVaW"
      }
    },
    {
      "cell_type": "code",
      "source": [
        "import numpy as np\n",
        "arreglo = np.array([1,2,3,4,5])\n",
        "\n",
        "print(arreglo)"
      ],
      "metadata": {
        "colab": {
          "base_uri": "https://localhost:8080/"
        },
        "id": "1GcAARQvtNW9",
        "outputId": "718644a6-c072-4165-a1d1-8da017a564fe"
      },
      "execution_count": 7,
      "outputs": [
        {
          "output_type": "stream",
          "name": "stdout",
          "text": [
            "[1 2 3 4 5]\n"
          ]
        }
      ]
    },
    {
      "cell_type": "markdown",
      "source": [
        "Matrices de 2D una matriz que tiene matrices de una dimension como elementos se denomina matriz 2D. A menudo se utilizan para representar matices de segundo orden . Numpy tiene un submodulo completo dedicado a operaciones con matrices llamado numpy.mat\n",
        "Ejemplo: Crea una matris de 2D que contenga dos matrices con los valores 123 y 456."
      ],
      "metadata": {
        "id": "Pnqgm-6rtw3V"
      }
    },
    {
      "cell_type": "code",
      "source": [
        "import numpy as np\n",
        "\n",
        "arreglo = np.array([[1,2,3],[4,5,6]])\n",
        "\n",
        "print(arreglo)"
      ],
      "metadata": {
        "colab": {
          "base_uri": "https://localhost:8080/"
        },
        "id": "m9gZQFriuZSV",
        "outputId": "956bdda0-07b3-4860-b03d-c5fe9398135d"
      },
      "execution_count": 10,
      "outputs": [
        {
          "output_type": "stream",
          "name": "stdout",
          "text": [
            "[[1 2 3]\n",
            " [4 5 6]]\n"
          ]
        }
      ]
    },
    {
      "cell_type": "markdown",
      "source": [
        "Matrices 3D\n",
        "una matriz que tiene matrices 2D se denomina matriz 3D.\n",
        "Estas matrices se utilizan para representar una matriz de tercer orden.\n",
        "Ejemplo: Crea una matriz 3D con dos matrices bidimensionales, ambas conteniendo\n",
        "dos matrices con los valores 1,2,3 y 4,5,6"
      ],
      "metadata": {
        "id": "MNizNJRyvdCN"
      }
    },
    {
      "cell_type": "code",
      "source": [
        "import numpy as np\n",
        "\n",
        "arreglo = np.array([[[1,2,3],[4,5,6]],[[1,2,3],[4,5,6]]])\n",
        "\n",
        "print(arreglo)"
      ],
      "metadata": {
        "colab": {
          "base_uri": "https://localhost:8080/"
        },
        "id": "VcV7ID10wUSA",
        "outputId": "7a205548-2ef2-4824-bf7c-a9dcc6e08c85"
      },
      "execution_count": 16,
      "outputs": [
        {
          "output_type": "stream",
          "name": "stdout",
          "text": [
            "[[[1 2 3]\n",
            "  [4 5 6]]\n",
            "\n",
            " [[1 2 3]\n",
            "  [4 5 6]]]\n"
          ]
        }
      ]
    }
  ]
}