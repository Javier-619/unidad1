{
  "nbformat": 4,
  "nbformat_minor": 0,
  "metadata": {
    "colab": {
      "provenance": [],
      "authorship_tag": "ABX9TyMETM5r4smEcyfFW2ZAzgS1",
      "include_colab_link": true
    },
    "kernelspec": {
      "name": "python3",
      "display_name": "Python 3"
    },
    "language_info": {
      "name": "python"
    }
  },
  "cells": [
    {
      "cell_type": "markdown",
      "metadata": {
        "id": "view-in-github",
        "colab_type": "text"
      },
      "source": [
        "<a href=\"https://colab.research.google.com/github/Javier-619/unidad1/blob/main/practica3.ipynb\" target=\"_parent\"><img src=\"https://colab.research.google.com/assets/colab-badge.svg\" alt=\"Open In Colab\"/></a>"
      ]
    },
    {
      "cell_type": "code",
      "execution_count": null,
      "metadata": {
        "id": "YKGj1hd3Csj7"
      },
      "outputs": [],
      "source": []
    },
    {
      "cell_type": "markdown",
      "source": [
        "importamos la libreria numpy y creamos el arreglo,\n",
        "hubicamos al elemento de la 2a fila 5a columna, lo hubicamos mirando el indice de la fila que es 0 y 1 y tambien el 5to elemento que su indice es 4"
      ],
      "metadata": {
        "id": "ci-eeTGUD4Ko"
      }
    },
    {
      "cell_type": "code",
      "source": [
        "import numpy as np\n",
        "arreglo = np.array ([[1,2,3,4,5],[6,7,8,9,10]])\n",
        "print (arreglo[1,4])"
      ],
      "metadata": {
        "colab": {
          "base_uri": "https://localhost:8080/"
        },
        "id": "BTYXrDvNEEeP",
        "outputId": "b66f028a-6320-4f10-e632-788f8a3c146b"
      },
      "execution_count": 2,
      "outputs": [
        {
          "output_type": "stream",
          "name": "stdout",
          "text": [
            "10\n"
          ]
        }
      ]
    },
    {
      "cell_type": "markdown",
      "source": [
        "LISTA PARA ACCEDER AL TERCER ELEMENTO DE LA SEGUNDA MATRIZ DE LA PRIMERA MATRIZ\n"
      ],
      "metadata": {
        "id": "MEXB0wjwIBVy"
      }
    },
    {
      "cell_type": "code",
      "source": [
        "import numpy as np\n",
        "arreglo = np.array ([[[1,2,3],[4,5,6]],[[7,8,9],[10,11,12]]])\n",
        "print (arreglo[0],[1],[2])\n"
      ],
      "metadata": {
        "colab": {
          "base_uri": "https://localhost:8080/"
        },
        "id": "R_AnraUpIRly",
        "outputId": "2892d66f-dfaf-4142-8e2f-548ada372596"
      },
      "execution_count": 3,
      "outputs": [
        {
          "output_type": "stream",
          "name": "stdout",
          "text": [
            "[[1 2 3]\n",
            " [4 5 6]] [1] [2]\n"
          ]
        }
      ]
    }
  ]
}