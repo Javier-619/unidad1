{
  "nbformat": 4,
  "nbformat_minor": 0,
  "metadata": {
    "colab": {
      "provenance": [],
      "authorship_tag": "ABX9TyOomrEPYT71MWfnNyzhLOTK",
      "include_colab_link": true
    },
    "kernelspec": {
      "name": "python3",
      "display_name": "Python 3"
    },
    "language_info": {
      "name": "python"
    }
  },
  "cells": [
    {
      "cell_type": "markdown",
      "metadata": {
        "id": "view-in-github",
        "colab_type": "text"
      },
      "source": [
        "<a href=\"https://colab.research.google.com/github/Javier-619/unidad1/blob/main/practica6.ipynb\" target=\"_parent\"><img src=\"https://colab.research.google.com/assets/colab-badge.svg\" alt=\"Open In Colab\"/></a>"
      ]
    },
    {
      "cell_type": "markdown",
      "source": [
        "javier sandoval perez - 24 de septiembre de 2025 - practica 6 - cortar arreglo numpy\n",
        "\n",
        "slice en python significa tomar elementos de de un indice determinando a otro indice\n",
        "\n",
        "Pasamos slice en lugar del indice de esta manera :[start:end]\n",
        "si no pasamos el inicio se considera 0\n",
        "si no pasamos el final, su longitud es cinsiderada una matriz de una dimension\n",
        "-------------\n",
        "Ejemplo:([1,2,3,4,5,6,7])\n",
        "cortar los elementos del indice 1 al indice 5\n",
        "-------------\n",
        ""
      ],
      "metadata": {
        "id": "q6Gpjs_QDeT-"
      }
    },
    {
      "cell_type": "code",
      "source": [
        "import numpy as np\n",
        "\n",
        "arreglo = np.array([1,2,3,4,5,6,7])\n",
        "\n",
        "print(arreglo[1:5])"
      ],
      "metadata": {
        "colab": {
          "base_uri": "https://localhost:8080/"
        },
        "id": "bVEaYdndKaDF",
        "outputId": "648c7e07-4fea-4ced-9a2b-29d5c5aa281c"
      },
      "execution_count": 1,
      "outputs": [
        {
          "output_type": "stream",
          "name": "stdout",
          "text": [
            "[2 3 4 5]\n"
          ]
        }
      ]
    },
    {
      "cell_type": "markdown",
      "source": [
        "Ejemplo2:\n",
        "([1,2,3,4,5,6,7])\n",
        "cortar del indice 4 hasta el final de la matriz"
      ],
      "metadata": {
        "id": "e0ljxacSLKuk"
      }
    },
    {
      "cell_type": "code",
      "source": [
        "import numpy as np\n",
        "\n",
        "arreglo = np.array ([1,2,3,4,5,6,7])\n",
        "\n",
        "print(arreglo[4:])"
      ],
      "metadata": {
        "colab": {
          "base_uri": "https://localhost:8080/"
        },
        "id": "HxO6uAYbLQPi",
        "outputId": "50dbcf63-5a2b-4b50-f4a6-33b3afcff97f"
      },
      "execution_count": 2,
      "outputs": [
        {
          "output_type": "stream",
          "name": "stdout",
          "text": [
            "[5 6 7]\n"
          ]
        }
      ]
    },
    {
      "cell_type": "markdown",
      "source": [
        " Ejemplo3:\n",
        " ([1,2,3,4,5,6,7])\n",
        " cortar elementos desde el principio hasta el indice 5\n"
      ],
      "metadata": {
        "id": "ndgG6b0gMJLE"
      }
    },
    {
      "cell_type": "code",
      "source": [
        "import numpy as np\n",
        "\n",
        "arreglo = np.array ([1,2,3,4,5,6,7])\n",
        "\n",
        "print(arreglo[:5])"
      ],
      "metadata": {
        "colab": {
          "base_uri": "https://localhost:8080/"
        },
        "id": "vITZCYJ5MWZ_",
        "outputId": "e8de8cc3-721c-474e-d3c5-bf67e051b1e8"
      },
      "execution_count": 3,
      "outputs": [
        {
          "output_type": "stream",
          "name": "stdout",
          "text": [
            "[1 2 3 4 5]\n"
          ]
        }
      ]
    },
    {
      "cell_type": "markdown",
      "source": [
        "Ejemplo4:\n",
        "([1,2,3,4,5,6,7])\n",
        "Corte negativo. utilizamos el operador \"menos\" para hacer referencia a un indice desde el final.\n",
        "----------------------\n",
        "cortar del indice 3 desde el final al indice 1 desde el final"
      ],
      "metadata": {
        "id": "Iwtk22uAM2V7"
      }
    },
    {
      "cell_type": "code",
      "source": [
        "import numpy as np\n",
        "\n",
        "arreglo = np.array([1,2,3,4,5,6,7])\n",
        "print(arreglo[-3:-1])"
      ],
      "metadata": {
        "colab": {
          "base_uri": "https://localhost:8080/"
        },
        "id": "WK4Uq0LUNcb7",
        "outputId": "33ae7871-7a49-44b8-e329-5ed79e5e1fb4"
      },
      "execution_count": 4,
      "outputs": [
        {
          "output_type": "stream",
          "name": "stdout",
          "text": [
            "[5 6]\n"
          ]
        }
      ]
    }
  ]
}